{
 "cells": [
  {
   "cell_type": "code",
   "execution_count": 2,
   "metadata": {},
   "outputs": [
    {
     "name": "stdout",
     "output_type": "stream",
     "text": [
      "3\n"
     ]
    }
   ],
   "source": [
    "#Length\n",
    "my_dict = {\"a\": 1, \"b\": 2, \"c\": 3}\n",
    "print(len(my_dict)) \n"
   ]
  },
  {
   "cell_type": "code",
   "execution_count": 4,
   "metadata": {},
   "outputs": [
    {
     "name": "stdout",
     "output_type": "stream",
     "text": [
      "1\n",
      "2\n"
     ]
    }
   ],
   "source": [
    "#accessing dictionary items\n",
    "my_dict = {\"a\": 1, \"b\": 2}\n",
    "print(my_dict[\"a\"]) \n",
    "print(my_dict.get(\"b\"))  \n"
   ]
  },
  {
   "cell_type": "code",
   "execution_count": 6,
   "metadata": {},
   "outputs": [
    {
     "name": "stdout",
     "output_type": "stream",
     "text": [
      "{'a': 1, 'b': 2}\n"
     ]
    }
   ],
   "source": [
    "#Adding Items\n",
    "my_dict = {\"a\": 1}\n",
    "my_dict[\"b\"] = 2\n",
    "print(my_dict)  \n"
   ]
  },
  {
   "cell_type": "code",
   "execution_count": 8,
   "metadata": {},
   "outputs": [
    {
     "name": "stdout",
     "output_type": "stream",
     "text": [
      "{'a': 1, 'b': 2}\n"
     ]
    }
   ],
   "source": [
    "#modifiying Items\n",
    "my_dict = {\"a\": 1}\n",
    "my_dict[\"b\"] = 2\n",
    "print(my_dict)  \n"
   ]
  },
  {
   "cell_type": "code",
   "execution_count": 9,
   "metadata": {},
   "outputs": [
    {
     "name": "stdout",
     "output_type": "stream",
     "text": [
      "True\n",
      "False\n"
     ]
    }
   ],
   "source": [
    "# Changing key\n",
    "my_dict = {\"a\": 1, \"b\": 2}\n",
    "print(\"a\" in my_dict)  \n",
    "print(\"c\" in my_dict)  \n"
   ]
  },
  {
   "cell_type": "code",
   "execution_count": 10,
   "metadata": {},
   "outputs": [
    {
     "name": "stdout",
     "output_type": "stream",
     "text": [
      "{'b': 2}\n",
      "{}\n"
     ]
    }
   ],
   "source": [
    "#removing key and value pair\n",
    "my_dict = {\"a\": 1, \"b\": 2}\n",
    "my_dict.pop(\"a\")  \n",
    "print(my_dict) \n",
    "\n",
    "# OR\n",
    "del my_dict[\"b\"]  \n",
    "print(my_dict) \n"
   ]
  },
  {
   "cell_type": "code",
   "execution_count": 11,
   "metadata": {},
   "outputs": [
    {
     "name": "stdout",
     "output_type": "stream",
     "text": [
      "[('a', 1), ('b', 2)]\n"
     ]
    }
   ],
   "source": [
    "#items to list\n",
    "my_dict = {\"a\": 1, \"b\": 2}\n",
    "items = list(my_dict.items())\n",
    "print(items)  "
   ]
  },
  {
   "cell_type": "code",
   "execution_count": 12,
   "metadata": {},
   "outputs": [
    {
     "name": "stdout",
     "output_type": "stream",
     "text": [
      "{}\n"
     ]
    }
   ],
   "source": [
    "#Clearing a dictionary\n",
    "my_dict = {\"a\": 1, \"b\": 2}\n",
    "my_dict.clear()\n",
    "print(my_dict)  "
   ]
  },
  {
   "cell_type": "code",
   "execution_count": 13,
   "metadata": {},
   "outputs": [],
   "source": [
    "#deleting a dictionary\n",
    "my_dict = {\"a\": 1, \"b\": 2}\n",
    "del my_dict"
   ]
  },
  {
   "cell_type": "code",
   "execution_count": 14,
   "metadata": {},
   "outputs": [
    {
     "name": "stdout",
     "output_type": "stream",
     "text": [
      "{'a': 1, 'b': 2}\n"
     ]
    }
   ],
   "source": [
    "#copy dictionary\n",
    "my_dict = {\"a\": 1, \"b\": 2}\n",
    "new_dict = my_dict.copy()\n",
    "print(new_dict)  "
   ]
  },
  {
   "cell_type": "code",
   "execution_count": 15,
   "metadata": {},
   "outputs": [
    {
     "name": "stdout",
     "output_type": "stream",
     "text": [
      "['a', 'b']\n"
     ]
    }
   ],
   "source": [
    "#getting different keys as a list\n",
    "my_dict = {\"a\": 1, \"b\": 2}\n",
    "keys = list(my_dict.keys())\n",
    "print(keys)  "
   ]
  },
  {
   "cell_type": "code",
   "execution_count": 16,
   "metadata": {},
   "outputs": [
    {
     "name": "stdout",
     "output_type": "stream",
     "text": [
      "[1, 2]\n"
     ]
    }
   ],
   "source": [
    "#getting values as list\n",
    "my_dict = {\"a\": 1, \"b\": 2}\n",
    "values = list(my_dict.values())\n",
    "print(values)  "
   ]
  },
  {
   "cell_type": "code",
   "execution_count": null,
   "metadata": {},
   "outputs": [],
   "source": []
  }
 ],
 "metadata": {
  "kernelspec": {
   "display_name": "Python 3",
   "language": "python",
   "name": "python3"
  },
  "language_info": {
   "codemirror_mode": {
    "name": "ipython",
    "version": 3
   },
   "file_extension": ".py",
   "mimetype": "text/x-python",
   "name": "python",
   "nbconvert_exporter": "python",
   "pygments_lexer": "ipython3",
   "version": "3.13.1"
  }
 },
 "nbformat": 4,
 "nbformat_minor": 2
}
