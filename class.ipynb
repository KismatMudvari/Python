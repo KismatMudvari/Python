{
 "cells": [
  {
   "cell_type": "code",
   "execution_count": 6,
   "metadata": {},
   "outputs": [
    {
     "name": "stdout",
     "output_type": "stream",
     "text": [
      "Creating a Class\n",
      "You are John\n",
      "User Changed\n",
      "New name: Alice\n"
     ]
    }
   ],
   "source": [
    "class Person:\n",
    "    def __init__(self, first_name):\n",
    "        self.name = first_name\n",
    "        print(\"Creating a Class\")\n",
    "        print(f\"You are {self.name}\")\n",
    "\n",
    "    def change_user(self, new_name):\n",
    "        self.name = new_name\n",
    "        print(\"User Changed\")\n",
    "        print(f\"New name: {self.name}\")\n",
    "\n",
    "# Example usage:\n",
    "p = Person(\"John\")  \n",
    "p.change_user(\"Alice\")  \n"
   ]
  },
  {
   "cell_type": "code",
   "execution_count": 7,
   "metadata": {},
   "outputs": [
    {
     "name": "stdout",
     "output_type": "stream",
     "text": [
      "Creating a Class\n",
      "You are Shyam\n",
      "User's name is Shyam\n"
     ]
    }
   ],
   "source": [
    "class Person:\n",
    "    def __init__(self, first_name):\n",
    "        self.name = first_name\n",
    "        print(\"Creating a Class\")\n",
    "        print(f\"You are {self.name}\")\n",
    "\n",
    "    def user_info(self):\n",
    "        print(f\"User's name is {self.name}\")\n",
    "\n",
    "# Example usage:\n",
    "per = Person(\"Shyam\")  \n",
    "per.user_info()  \n"
   ]
  },
  {
   "cell_type": "code",
   "execution_count": 9,
   "metadata": {},
   "outputs": [],
   "source": [
    "class User:\n",
    "    def __init__(self, name):\n",
    "        self.name = name\n",
    "        self.skills = []  # Initialize skills as an empty list\n",
    "        print(f\"You are {self.name}\")\n",
    "\n",
    "    def add_skill(self, skill):\n",
    "        self.skills.append(skill)\n",
    "        print(f\"Skill '{skill}' added.\")\n",
    "\n",
    "    def display_skills(self):\n",
    "        if self.skills:\n",
    "            print(f\"{self.name}'s skills: {', '.join(self.skills)}\")\n",
    "        else:\n",
    "            print(f\"{self.name} has no skills yet.\")\n",
    "\n",
    "user1 = User(\"Ram\")  \n",
    "user1.add_skill(\"Python\") \n",
    "user1.add_skill(\"Java\") \n",
    "user1.display_skills()  \n"
   ]
  },
  {
   "cell_type": "code",
   "execution_count": 10,
   "metadata": {},
   "outputs": [],
   "source": [
    "#Create a class User which has variables name and skill\n",
    "#Define name in cunstructor\n",
    "#Create 2 methods one to add skill & another display skill.\n",
    "\n",
    "\n",
    "class User:\n",
    "    def __init__(self,name,skill):\n",
    "        self.name = name\n",
    "        self.skill=[]\n",
    "        print(f\"You are{self.name}\")\n",
    "    \n",
    "    def add_skill(self,skill):\n",
    "    \n",
    "        self.skill=skill\n",
    "        print(f\"Your skill is{Self.skill}\")\n",
    "\n",
    "        \n",
    "user1.add_skill(\"Python\") \n",
    "user1.add_skill(\"Java\") \n",
    "user1.display_skills()  \n"
   ]
  },
  {
   "cell_type": "code",
   "execution_count": null,
   "metadata": {},
   "outputs": [],
   "source": []
  }
 ],
 "metadata": {
  "kernelspec": {
   "display_name": "Python 3",
   "language": "python",
   "name": "python3"
  },
  "language_info": {
   "codemirror_mode": {
    "name": "ipython",
    "version": 3
   },
   "file_extension": ".py",
   "mimetype": "text/x-python",
   "name": "python",
   "nbconvert_exporter": "python",
   "pygments_lexer": "ipython3",
   "version": "3.11.9"
  }
 },
 "nbformat": 4,
 "nbformat_minor": 2
}
