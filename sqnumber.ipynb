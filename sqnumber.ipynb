{
 "cells": [
  {
   "cell_type": "code",
   "execution_count": 1,
   "metadata": {},
   "outputs": [
    {
     "name": "stdout",
     "output_type": "stream",
     "text": [
      "The square of 5 is 25\n"
     ]
    }
   ],
   "source": [
    "# A simple program to calculate the square of a number\n",
    "def square_number(n):\n",
    "    return n * n\n",
    "\n",
    "if __name__ == \"__main__\":\n",
    "    number = 5\n",
    "    print(f\"The square of {number} is {square_number(number)}\")\n"
   ]
  },
  {
   "cell_type": "code",
   "execution_count": 1,
   "metadata": {},
   "outputs": [
    {
     "name": "stdout",
     "output_type": "stream",
     "text": [
      "The square of 12212 is 149132944\n"
     ]
    }
   ],
   "source": [
    "# A simple program to calculate the square of a number\n",
    "def square_number(n):\n",
    "    return n * n\n",
    "\n",
    "if __name__ == \"__main__\":\n",
    "    number = 12212\n",
    "    print(f\"The square of {number} is {square_number(number)}\")\n"
   ]
  },
  {
   "cell_type": "code",
   "execution_count": null,
   "metadata": {},
   "outputs": [],
   "source": []
  }
 ],
 "metadata": {
  "kernelspec": {
   "display_name": "Python 3",
   "language": "python",
   "name": "python3"
  },
  "language_info": {
   "codemirror_mode": {
    "name": "ipython",
    "version": 3
   },
   "file_extension": ".py",
   "mimetype": "text/x-python",
   "name": "python",
   "nbconvert_exporter": "python",
   "pygments_lexer": "ipython3",
   "version": "3.13.1"
  }
 },
 "nbformat": 4,
 "nbformat_minor": 2
}
